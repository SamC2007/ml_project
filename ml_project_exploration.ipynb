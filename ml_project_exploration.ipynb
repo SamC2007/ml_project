{
 "cells": [
  {
   "cell_type": "code",
   "execution_count": 279,
   "id": "3a748349-19b8-4b8e-8a06-0d4883202826",
   "metadata": {},
   "outputs": [
    {
     "name": "stdout",
     "output_type": "stream",
     "text": [
      "['upcoming.csv', 'ufc-master.csv']\n"
     ]
    }
   ],
   "source": [
    "# import libaries \n",
    "import kagglehub\n",
    "import os\n",
    "\n",
    "import numpy as np\n",
    "import pandas as pd\n",
    "from sklearn.impute import SimpleImputer\n",
    "from sklearn.pipeline import Pipeline\n",
    "from sklearn.preprocessing import LabelEncoder, StandardScaler, OneHotEncoder\n",
    "from sklearn.model_selection import train_test_split, RandomizedSearchCV\n",
    "from sklearn.compose import ColumnTransformer\n",
    "from sklearn.ensemble import RandomForestClassifier\n",
    "from sklearn.decomposition import PCA\n",
    "from sklearn.metrics import f1_score, precision_score, recall_score\n",
    "# import UFC stats (individual figthers)\n",
    "# Download latest version\n",
    "data_path_set = '/Users/samuelcuriel/.cache/kagglehub/datasets/asaniczka/ufc-fighters-statistics/versions/16'\n",
    "# Load the data from the csv and read it \n",
    "# to a dataframe\n",
    "files = os.listdir(data_path_set)\n",
    "\n",
    "file_path = os.path.join(data_path_set, 'ufc-fighters-statistics.csv')\n",
    "df = pd.read_csv(file_path)\n",
    "\n",
    "\n",
    "# import UFC fights (figther a v fighter b)\n",
    "# Download latest version\n",
    "\n",
    "data_path_fights = '/Users/samuelcuriel/.cache/kagglehub/datasets/mdabbert/ultimate-ufc-dataset/versions/177'\n",
    "files2 = os.listdir(data_path_fights)\n",
    "print(files2)\n",
    "# load the data from the csv and read it\n",
    "# to a datframe\n",
    "\n",
    "fight_path = os.path.join(data_path_fights,'ufc-master.csv')\n",
    "df_fights = pd.read_csv(fight_path)\n"
   ]
  },
  {
   "cell_type": "code",
   "execution_count": 280,
   "id": "f9310529-f03e-4dca-8a43-8c4827fb4451",
   "metadata": {},
   "outputs": [
    {
     "ename": "KeyError",
     "evalue": "'[\"\\'BWFeatherweightRank\"] not found in axis'",
     "output_type": "error",
     "traceback": [
      "\u001b[0;31m---------------------------------------------------------------------------\u001b[0m",
      "\u001b[0;31mKeyError\u001b[0m                                  Traceback (most recent call last)",
      "Cell \u001b[0;32mIn[280], line 6\u001b[0m\n\u001b[1;32m      3\u001b[0m merged_df \u001b[38;5;241m=\u001b[39m merged_df\u001b[38;5;241m.\u001b[39mmerge(df, left_on\u001b[38;5;241m=\u001b[39m\u001b[38;5;124m\"\u001b[39m\u001b[38;5;124mBlueFighter\u001b[39m\u001b[38;5;124m\"\u001b[39m, right_on\u001b[38;5;241m=\u001b[39m\u001b[38;5;124m\"\u001b[39m\u001b[38;5;124mname\u001b[39m\u001b[38;5;124m\"\u001b[39m, suffixes\u001b[38;5;241m=\u001b[39m(\u001b[38;5;124m\"\u001b[39m\u001b[38;5;124m_Red\u001b[39m\u001b[38;5;124m\"\u001b[39m, \u001b[38;5;124m\"\u001b[39m\u001b[38;5;124m_Blue\u001b[39m\u001b[38;5;124m\"\u001b[39m))\n\u001b[1;32m      4\u001b[0m \u001b[38;5;66;03m# drop unecessary columns\u001b[39;00m\n\u001b[0;32m----> 6\u001b[0m merged_df \u001b[38;5;241m=\u001b[39m merged_df\u001b[38;5;241m.\u001b[39mdrop(columns\u001b[38;5;241m=\u001b[39m[\u001b[38;5;124m\"\u001b[39m\u001b[38;5;124m'\u001b[39m\u001b[38;5;124mBWFeatherweightRank\u001b[39m\u001b[38;5;124m\"\u001b[39m, \u001b[38;5;124m\"\u001b[39m\u001b[38;5;124mBWFlyweightRank\u001b[39m\u001b[38;5;124m\"\u001b[39m, \u001b[38;5;124m\"\u001b[39m\u001b[38;5;124mRWFlyweightRank\u001b[39m\u001b[38;5;124m\"\u001b[39m, \u001b[38;5;124m\"\u001b[39m\u001b[38;5;124mRWFeatherweightRank\u001b[39m\u001b[38;5;124m\"\u001b[39m, \u001b[38;5;124m\"\u001b[39m\u001b[38;5;124mRBantamweightRank\u001b[39m\u001b[38;5;124m\"\u001b[39m, \u001b[38;5;124m\"\u001b[39m\u001b[38;5;124mLocation\u001b[39m\u001b[38;5;124m\"\u001b[39m, \u001b[38;5;124m\"\u001b[39m\u001b[38;5;124mCountry\u001b[39m\u001b[38;5;124m\"\u001b[39m, \u001b[38;5;124m\"\u001b[39m\u001b[38;5;124mDate\u001b[39m\u001b[38;5;124m\"\u001b[39m,  \u001b[38;5;124m\"\u001b[39m\u001b[38;5;124mTitleBout\u001b[39m\u001b[38;5;124m\"\u001b[39m, \u001b[38;5;124m\"\u001b[39m\u001b[38;5;124mWeightClass\u001b[39m\u001b[38;5;124m\"\u001b[39m, \u001b[38;5;124m\"\u001b[39m\u001b[38;5;124mGender\u001b[39m\u001b[38;5;124m\"\u001b[39m, \u001b[38;5;124m\"\u001b[39m\u001b[38;5;124mFinishRoundTime\u001b[39m\u001b[38;5;124m\"\u001b[39m, \u001b[38;5;124m\"\u001b[39m\u001b[38;5;124mdate_of_birth_Blue\u001b[39m\u001b[38;5;124m\"\u001b[39m, \u001b[38;5;124m\"\u001b[39m\u001b[38;5;124mdate_of_birth_Red\u001b[39m\u001b[38;5;124m\"\u001b[39m,\u001b[38;5;124m'\u001b[39m\u001b[38;5;124mname_Red\u001b[39m\u001b[38;5;124m'\u001b[39m, \u001b[38;5;124m'\u001b[39m\u001b[38;5;124mnickname_Red\u001b[39m\u001b[38;5;124m'\u001b[39m, \u001b[38;5;124m'\u001b[39m\u001b[38;5;124mname_Blue\u001b[39m\u001b[38;5;124m'\u001b[39m, \u001b[38;5;124m'\u001b[39m\u001b[38;5;124mnickname_Blue\u001b[39m\u001b[38;5;124m'\u001b[39m,\u001b[38;5;124m\"\u001b[39m\u001b[38;5;124mBlueStance\u001b[39m\u001b[38;5;124m\"\u001b[39m, \u001b[38;5;124m\"\u001b[39m\u001b[38;5;124mRedStance\u001b[39m\u001b[38;5;124m\"\u001b[39m, \u001b[38;5;124m'\u001b[39m\u001b[38;5;124mstance_Red\u001b[39m\u001b[38;5;124m'\u001b[39m, \u001b[38;5;124m'\u001b[39m\u001b[38;5;124mstance_Blue\u001b[39m\u001b[38;5;124m'\u001b[39m, \u001b[38;5;124m'\u001b[39m\u001b[38;5;124mFinish\u001b[39m\u001b[38;5;124m'\u001b[39m, \u001b[38;5;124m'\u001b[39m\u001b[38;5;124mFinishDetails\u001b[39m\u001b[38;5;124m'\u001b[39m])\n\u001b[1;32m      7\u001b[0m \u001b[38;5;66;03m# convert winner into binary\u001b[39;00m\n\u001b[1;32m      8\u001b[0m merged_df[\u001b[38;5;124m'\u001b[39m\u001b[38;5;124mWinner\u001b[39m\u001b[38;5;124m'\u001b[39m] \u001b[38;5;241m=\u001b[39m merged_df[\u001b[38;5;124m'\u001b[39m\u001b[38;5;124mWinner\u001b[39m\u001b[38;5;124m'\u001b[39m]\u001b[38;5;241m.\u001b[39mmap(\u001b[38;5;28;01mlambda\u001b[39;00m x: \u001b[38;5;241m1\u001b[39m \u001b[38;5;28;01mif\u001b[39;00m x \u001b[38;5;241m==\u001b[39m \u001b[38;5;124m\"\u001b[39m\u001b[38;5;124mRed\u001b[39m\u001b[38;5;124m\"\u001b[39m \u001b[38;5;28;01melse\u001b[39;00m \u001b[38;5;241m0\u001b[39m)\n",
      "File \u001b[0;32m/opt/anaconda3/lib/python3.12/site-packages/pandas/core/frame.py:5581\u001b[0m, in \u001b[0;36mDataFrame.drop\u001b[0;34m(self, labels, axis, index, columns, level, inplace, errors)\u001b[0m\n\u001b[1;32m   5433\u001b[0m \u001b[38;5;28;01mdef\u001b[39;00m \u001b[38;5;21mdrop\u001b[39m(\n\u001b[1;32m   5434\u001b[0m     \u001b[38;5;28mself\u001b[39m,\n\u001b[1;32m   5435\u001b[0m     labels: IndexLabel \u001b[38;5;241m|\u001b[39m \u001b[38;5;28;01mNone\u001b[39;00m \u001b[38;5;241m=\u001b[39m \u001b[38;5;28;01mNone\u001b[39;00m,\n\u001b[0;32m   (...)\u001b[0m\n\u001b[1;32m   5442\u001b[0m     errors: IgnoreRaise \u001b[38;5;241m=\u001b[39m \u001b[38;5;124m\"\u001b[39m\u001b[38;5;124mraise\u001b[39m\u001b[38;5;124m\"\u001b[39m,\n\u001b[1;32m   5443\u001b[0m ) \u001b[38;5;241m-\u001b[39m\u001b[38;5;241m>\u001b[39m DataFrame \u001b[38;5;241m|\u001b[39m \u001b[38;5;28;01mNone\u001b[39;00m:\n\u001b[1;32m   5444\u001b[0m \u001b[38;5;250m    \u001b[39m\u001b[38;5;124;03m\"\"\"\u001b[39;00m\n\u001b[1;32m   5445\u001b[0m \u001b[38;5;124;03m    Drop specified labels from rows or columns.\u001b[39;00m\n\u001b[1;32m   5446\u001b[0m \n\u001b[0;32m   (...)\u001b[0m\n\u001b[1;32m   5579\u001b[0m \u001b[38;5;124;03m            weight  1.0     0.8\u001b[39;00m\n\u001b[1;32m   5580\u001b[0m \u001b[38;5;124;03m    \"\"\"\u001b[39;00m\n\u001b[0;32m-> 5581\u001b[0m     \u001b[38;5;28;01mreturn\u001b[39;00m \u001b[38;5;28msuper\u001b[39m()\u001b[38;5;241m.\u001b[39mdrop(\n\u001b[1;32m   5582\u001b[0m         labels\u001b[38;5;241m=\u001b[39mlabels,\n\u001b[1;32m   5583\u001b[0m         axis\u001b[38;5;241m=\u001b[39maxis,\n\u001b[1;32m   5584\u001b[0m         index\u001b[38;5;241m=\u001b[39mindex,\n\u001b[1;32m   5585\u001b[0m         columns\u001b[38;5;241m=\u001b[39mcolumns,\n\u001b[1;32m   5586\u001b[0m         level\u001b[38;5;241m=\u001b[39mlevel,\n\u001b[1;32m   5587\u001b[0m         inplace\u001b[38;5;241m=\u001b[39minplace,\n\u001b[1;32m   5588\u001b[0m         errors\u001b[38;5;241m=\u001b[39merrors,\n\u001b[1;32m   5589\u001b[0m     )\n",
      "File \u001b[0;32m/opt/anaconda3/lib/python3.12/site-packages/pandas/core/generic.py:4788\u001b[0m, in \u001b[0;36mNDFrame.drop\u001b[0;34m(self, labels, axis, index, columns, level, inplace, errors)\u001b[0m\n\u001b[1;32m   4786\u001b[0m \u001b[38;5;28;01mfor\u001b[39;00m axis, labels \u001b[38;5;129;01min\u001b[39;00m axes\u001b[38;5;241m.\u001b[39mitems():\n\u001b[1;32m   4787\u001b[0m     \u001b[38;5;28;01mif\u001b[39;00m labels \u001b[38;5;129;01mis\u001b[39;00m \u001b[38;5;129;01mnot\u001b[39;00m \u001b[38;5;28;01mNone\u001b[39;00m:\n\u001b[0;32m-> 4788\u001b[0m         obj \u001b[38;5;241m=\u001b[39m obj\u001b[38;5;241m.\u001b[39m_drop_axis(labels, axis, level\u001b[38;5;241m=\u001b[39mlevel, errors\u001b[38;5;241m=\u001b[39merrors)\n\u001b[1;32m   4790\u001b[0m \u001b[38;5;28;01mif\u001b[39;00m inplace:\n\u001b[1;32m   4791\u001b[0m     \u001b[38;5;28mself\u001b[39m\u001b[38;5;241m.\u001b[39m_update_inplace(obj)\n",
      "File \u001b[0;32m/opt/anaconda3/lib/python3.12/site-packages/pandas/core/generic.py:4830\u001b[0m, in \u001b[0;36mNDFrame._drop_axis\u001b[0;34m(self, labels, axis, level, errors, only_slice)\u001b[0m\n\u001b[1;32m   4828\u001b[0m         new_axis \u001b[38;5;241m=\u001b[39m axis\u001b[38;5;241m.\u001b[39mdrop(labels, level\u001b[38;5;241m=\u001b[39mlevel, errors\u001b[38;5;241m=\u001b[39merrors)\n\u001b[1;32m   4829\u001b[0m     \u001b[38;5;28;01melse\u001b[39;00m:\n\u001b[0;32m-> 4830\u001b[0m         new_axis \u001b[38;5;241m=\u001b[39m axis\u001b[38;5;241m.\u001b[39mdrop(labels, errors\u001b[38;5;241m=\u001b[39merrors)\n\u001b[1;32m   4831\u001b[0m     indexer \u001b[38;5;241m=\u001b[39m axis\u001b[38;5;241m.\u001b[39mget_indexer(new_axis)\n\u001b[1;32m   4833\u001b[0m \u001b[38;5;66;03m# Case for non-unique axis\u001b[39;00m\n\u001b[1;32m   4834\u001b[0m \u001b[38;5;28;01melse\u001b[39;00m:\n",
      "File \u001b[0;32m/opt/anaconda3/lib/python3.12/site-packages/pandas/core/indexes/base.py:7070\u001b[0m, in \u001b[0;36mIndex.drop\u001b[0;34m(self, labels, errors)\u001b[0m\n\u001b[1;32m   7068\u001b[0m \u001b[38;5;28;01mif\u001b[39;00m mask\u001b[38;5;241m.\u001b[39many():\n\u001b[1;32m   7069\u001b[0m     \u001b[38;5;28;01mif\u001b[39;00m errors \u001b[38;5;241m!=\u001b[39m \u001b[38;5;124m\"\u001b[39m\u001b[38;5;124mignore\u001b[39m\u001b[38;5;124m\"\u001b[39m:\n\u001b[0;32m-> 7070\u001b[0m         \u001b[38;5;28;01mraise\u001b[39;00m \u001b[38;5;167;01mKeyError\u001b[39;00m(\u001b[38;5;124mf\u001b[39m\u001b[38;5;124m\"\u001b[39m\u001b[38;5;132;01m{\u001b[39;00mlabels[mask]\u001b[38;5;241m.\u001b[39mtolist()\u001b[38;5;132;01m}\u001b[39;00m\u001b[38;5;124m not found in axis\u001b[39m\u001b[38;5;124m\"\u001b[39m)\n\u001b[1;32m   7071\u001b[0m     indexer \u001b[38;5;241m=\u001b[39m indexer[\u001b[38;5;241m~\u001b[39mmask]\n\u001b[1;32m   7072\u001b[0m \u001b[38;5;28;01mreturn\u001b[39;00m \u001b[38;5;28mself\u001b[39m\u001b[38;5;241m.\u001b[39mdelete(indexer)\n",
      "\u001b[0;31mKeyError\u001b[0m: '[\"\\'BWFeatherweightRank\"] not found in axis'"
     ]
    }
   ],
   "source": [
    "# Merge both datasets\n",
    "merged_df = df_fights.merge(df, left_on=\"RedFighter\", right_on=\"name\", suffixes=(\"_Red\", \"_drop\"))\n",
    "merged_df = merged_df.merge(df, left_on=\"BlueFighter\", right_on=\"name\", suffixes=(\"_Red\", \"_Blue\"))\n",
    "# drop unecessary columns\n",
    "\n",
    "merged_df = merged_df.drop(columns=[\"'BWFeatherweightRank\", \"BWFlyweightRank\", \"RWFlyweightRank\", \"RWFeatherweightRank\", \"RBantamweightRank\", \"Location\", \"Country\", \"Date\",  \"TitleBout\", \"WeightClass\", \"Gender\", \"FinishRoundTime\", \"date_of_birth_Blue\", \"date_of_birth_Red\",'name_Red', 'nickname_Red', 'name_Blue', 'nickname_Blue',\"BlueStance\", \"RedStance\", 'stance_Red', 'stance_Blue', 'Finish', 'FinishDetails'])\n",
    "# convert winner into binary\n",
    "merged_df['Winner'] = merged_df['Winner'].map(lambda x: 1 if x == \"Red\" else 0)\n",
    "merged_df['RedFighter'] = merged_df['RedFighter'].map(lambda x: 1)\n",
    "merged_df['BlueFighter'] = merged_df['BlueFighter'].map(lambda x: 0)\n",
    "print(merged_df)\n",
    "# Now we have a dataset to work with and next cell we create pipeline!"
   ]
  },
  {
   "cell_type": "code",
   "execution_count": null,
   "id": "9bc57ff5-3f70-4b9c-a374-cc83a5b98dbf",
   "metadata": {},
   "outputs": [],
   "source": [
    "# Define important features to use\n",
    "features = [\"RedOdds\", \"BlueOdds\", \"RedExpectedValue\", \"BlueExpectedValue\",\n",
    "            \"height_cm_Blue\", \"height_cm_Red\", \"weight_in_kg_Red\", \"weight_in_kg_Blue\", \"reach_in_cm_Red\", \"reach_in_cm_Blue\", \n",
    "            \"BlueAvgSigStrLanded\", \"BlueAvgSigStrPct\", \"BlueAvgSubAtt\", \"BlueAvgTDLanded\",\n",
    "            \"BlueAvgTDPct\", \"RedAvgSigStrLanded\", \"RedAvgSigStrPct\", \"RedAvgSubAtt\", \"RedAvgTDLanded\", \"RedAvgTDPct\"]\n",
    "# Define target and features\n",
    "X = merged_df.drop(columns=[\"Winner\"])\n",
    "\n",
    "X_new = X[features].copy()\n",
    "keep_cols = X.dropna(axis=1, how='all').columns\n",
    "X_combined = pd.concat([X_new, X[keep_cols]], axis=1)\n",
    "\n",
    "y = merged_df[\"Winner\"]\n",
    "\n",
    "# define two list for categorical and numerical columns\n",
    "#Convert all columns to numeric, coerce errors to null values\n",
    "for c in df.columns:\n",
    "    df[c] = pd.to_numeric(df[c], errors='coerce')\n",
    "cat_cols = [\"RedFighter\", \"BlueFighter\", \"BetterRank\"]\n",
    "num_cols = [col for col in X_combined.columns if col not in cat_cols]\n",
    "for col in cat_cols:\n",
    "    print(merged_df[col])\n",
    "print(X.notna().sum())"
   ]
  },
  {
   "cell_type": "code",
   "execution_count": null,
   "id": "c51ef425-4d44-4080-9db7-66e6eca9be1e",
   "metadata": {},
   "outputs": [],
   "source": [
    "# Ready for pipeline\n",
    "\n",
    "cat_vals = Pipeline([('imputer', SimpleImputer(strategy=\"most_frequent\")), (\"ohe\", OneHotEncoder(sparse_output=False, drop='first', handle_unknown='ignore'))])\n",
    "num_vals = Pipeline([('imputer', SimpleImputer(strategy=\"mean\")), (\"scale\", StandardScaler())])\n",
    "preprocess = ColumnTransformer(\n",
    "    transformers = [\n",
    "        (\"cat_process\", cat_vals, cat_cols),\n",
    "        (\"num_vals\", num_vals, num_cols)\n",
    "    ])\n",
    "X_train, X_test, y_train, y_test = train_test_split(X, y, random_state=0, test_size=.2)\n",
    "pipeline = Pipeline([('preprocess', preprocess),\n",
    "                     ('rf', RandomForestClassifier())\n",
    "                    ])\n",
    "\n"
   ]
  },
  {
   "cell_type": "code",
   "execution_count": null,
   "id": "6c2a1760-3a73-4da1-9900-87ae15b2c673",
   "metadata": {},
   "outputs": [],
   "source": [
    "# fit the pipeline\n",
    "pipeline.fit(X_train, y_train)\n",
    "print(\"Pipeline accuracy score:\")\n",
    "print(pipeline.score(X_test, y_test))"
   ]
  },
  {
   "cell_type": "code",
   "execution_count": null,
   "id": "de5c229b-63bc-4017-b221-a6f4a02885de",
   "metadata": {
    "scrolled": true
   },
   "outputs": [],
   "source": [
    "#Define search space parameters\n",
    "search_space = [{'rf': [RandomForestClassifier()],\n",
    "                 'rf__n_estimators': [100,200, 250],\n",
    "                 'rf__max_depth': [10,13, 15, 20, None],\n",
    "                 'rf__min_samples_split': [2, 4, 6, 8],\n",
    "                 'rf__min_samples_leaf': [1,3, 5, 9],\n",
    "                 'rf__max_features': [5, 'sqrt', 'log2'],\n",
    "                 \n",
    "                \n",
    "                }]\n",
    "\n",
    "rs =  RandomizedSearchCV(pipeline, search_space, cv=5, n_jobs=-1)\n",
    "rs.fit(X_train, y_train)\n",
    "\n",
    "best_model = rs.best_estimator_\n",
    "print(\"Best Model:\")\n",
    "print(best_model.named_steps['rf'])\n",
    "print(\"Best Hyperparameters:\")\n",
    "print(best_model.named_steps['rf'].get_params())\n",
    "\n",
    "print(\"Best Model Score:\")\n",
    "print(best_model.score(X_test, y_test))\n",
    "# Score using f1 Score\n",
    "y_pred = best_model.predict(X_test)\n",
    "print(\"Using f1-score:\")\n",
    "print(f1_score(y_test,y_pred))\n",
    "print(\"Precision:\")\n",
    "print(precision_score(y_test, y_pred))\n",
    "print(\"Recall Score:\")\n",
    "print(recall_score(y_test, y_pred))"
   ]
  },
  {
   "cell_type": "code",
   "execution_count": null,
   "id": "8e99949f-7599-45f7-918c-b616f9fefd52",
   "metadata": {},
   "outputs": [],
   "source": []
  }
 ],
 "metadata": {
  "kernelspec": {
   "display_name": "Python [conda env:base] *",
   "language": "python",
   "name": "conda-base-py"
  },
  "language_info": {
   "codemirror_mode": {
    "name": "ipython",
    "version": 3
   },
   "file_extension": ".py",
   "mimetype": "text/x-python",
   "name": "python",
   "nbconvert_exporter": "python",
   "pygments_lexer": "ipython3",
   "version": "3.12.7"
  }
 },
 "nbformat": 4,
 "nbformat_minor": 5
}
