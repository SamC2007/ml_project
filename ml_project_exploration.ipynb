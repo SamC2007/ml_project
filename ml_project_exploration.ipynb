{
 "cells": [
  {
   "cell_type": "code",
   "execution_count": 11,
   "id": "3a748349-19b8-4b8e-8a06-0d4883202826",
   "metadata": {},
   "outputs": [
    {
     "name": "stdout",
     "output_type": "stream",
     "text": [
      "files in directory:  ['ufc-fighters-statistics.csv']\n",
      "                name    nickname  wins  losses  draws  height_cm  \\\n",
      "0    Robert Drysdale         NaN     7       0      0     190.50   \n",
      "1  Daniel McWilliams  The Animal    15      37      0     185.42   \n",
      "2         Dan Molina         NaN    13       9      0     177.80   \n",
      "3          Paul Ruiz         NaN     7       4      0     167.64   \n",
      "4    Collin Huckbody      All In     8       2      0     190.50   \n",
      "\n",
      "   weight_in_kg  reach_in_cm    stance date_of_birth  \\\n",
      "0         92.99          NaN  Orthodox    1981-10-05   \n",
      "1         83.91          NaN       NaN           NaN   \n",
      "2         97.98          NaN       NaN           NaN   \n",
      "3         61.23          NaN       NaN           NaN   \n",
      "4         83.91       193.04  Orthodox    1994-09-29   \n",
      "\n",
      "   significant_strikes_landed_per_minute  significant_striking_accuracy  \\\n",
      "0                                   0.00                            0.0   \n",
      "1                                   3.36                           77.0   \n",
      "2                                   0.00                            0.0   \n",
      "3                                   1.40                           33.0   \n",
      "4                                   2.05                           60.0   \n",
      "\n",
      "   significant_strikes_absorbed_per_minute  significant_strike_defence  \\\n",
      "0                                     0.00                         0.0   \n",
      "1                                     0.00                         0.0   \n",
      "2                                     5.58                        60.0   \n",
      "3                                     1.40                        75.0   \n",
      "4                                     2.73                        42.0   \n",
      "\n",
      "   average_takedowns_landed_per_15_minutes  takedown_accuracy  \\\n",
      "0                                     7.32              100.0   \n",
      "1                                     0.00                0.0   \n",
      "2                                     0.00                0.0   \n",
      "3                                     0.00                0.0   \n",
      "4                                    10.23              100.0   \n",
      "\n",
      "   takedown_defense  average_submissions_attempted_per_15_minutes  \n",
      "0               0.0                                          21.9  \n",
      "1             100.0                                          21.6  \n",
      "2               0.0                                          20.9  \n",
      "3             100.0                                          20.9  \n",
      "4               0.0                                          20.4  \n"
     ]
    }
   ],
   "source": [
    "import kagglehub\n",
    "import os\n",
    "import pandas as pd\n",
    "# import UFC stats (individual figthers)\n",
    "# Download latest version\n",
    "data_path_set = '/Users/samuelcuriel/.cache/kagglehub/datasets/asaniczka/ufc-fighters-statistics/versions/16'\n",
    "# Load the data from the csv and read it \n",
    "# to a dataframe\n",
    "files = os.listdir(data_path_set)\n",
    "print(\"files in directory: \", files)\n",
    "file_path = os.path.join(data_path_set, 'ufc-fighters-statistics.csv')\n",
    "df = pd.read_csv(file_path)\n",
    "print(df.head())\n"
   ]
  },
  {
   "cell_type": "code",
   "execution_count": null,
   "id": "2552872b-eeae-4335-89f5-b20b1f86251a",
   "metadata": {},
   "outputs": [],
   "source": []
  }
 ],
 "metadata": {
  "kernelspec": {
   "display_name": "Python [conda env:base] *",
   "language": "python",
   "name": "conda-base-py"
  },
  "language_info": {
   "codemirror_mode": {
    "name": "ipython",
    "version": 3
   },
   "file_extension": ".py",
   "mimetype": "text/x-python",
   "name": "python",
   "nbconvert_exporter": "python",
   "pygments_lexer": "ipython3",
   "version": "3.12.7"
  }
 },
 "nbformat": 4,
 "nbformat_minor": 5
}
